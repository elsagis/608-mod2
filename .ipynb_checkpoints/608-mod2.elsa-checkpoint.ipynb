{
 "cells": [
  {
   "cell_type": "code",
   "execution_count": 20,
   "id": "48fc408b-026d-4a5b-ba3b-5a7b9bcb4583",
   "metadata": {},
   "outputs": [
    {
     "name": "stdout",
     "output_type": "stream",
     "text": [
      "Passed\n"
     ]
    }
   ],
   "source": [
    "grade = 85\n",
    "if grade >=60:\n",
    "    print('Passed')"
   ]
  },
  {
   "cell_type": "code",
   "execution_count": 24,
   "id": "61c4636a-9648-48df-a47a-1ca0680da528",
   "metadata": {
    "tags": []
   },
   "outputs": [
    {
     "name": "stdout",
     "output_type": "stream",
     "text": [
      "Failed\n"
     ]
    }
   ],
   "source": [
    "grade = 55\n",
    "if grade >=60:\n",
    "    print('passed')\n",
    "else: \n",
    "    print('Failed')\n",
    "        "
   ]
  },
  {
   "cell_type": "code",
   "execution_count": 25,
   "id": "509b87ba-47bc-435c-9f2d-351ebfc13f1e",
   "metadata": {},
   "outputs": [
    {
     "name": "stdout",
     "output_type": "stream",
     "text": [
      "Failed\n"
     ]
    }
   ],
   "source": [
    "grade = 57\n",
    "if grade >= 60:\n",
    "    print('Passed')\n",
    "else:\n",
    "    print('Failed')"
   ]
  },
  {
   "cell_type": "code",
   "execution_count": 26,
   "id": "383cd199-690a-4acd-a5a9-4b5d9d23de04",
   "metadata": {},
   "outputs": [
    {
     "name": "stdout",
     "output_type": "stream",
     "text": [
      "Passed\n"
     ]
    }
   ],
   "source": [
    "grade = 99\n",
    "if grade >= 60:\n",
    "    print('Passed')\n",
    "else:\n",
    "    print('Failed')"
   ]
  },
  {
   "cell_type": "code",
   "execution_count": 29,
   "id": "af3d0b46-deae-481c-8ef2-7c334e555db3",
   "metadata": {},
   "outputs": [],
   "source": [
    "grade = 87\n",
    "if grade >= 60:\n",
    "    result = 'Passed'\n",
    "else:\n",
    "    result = 'Failed'\n",
    "    "
   ]
  },
  {
   "cell_type": "code",
   "execution_count": 29,
   "id": "fd273c7c-c31b-4b48-be8e-a301e9c0fc7d",
   "metadata": {},
   "outputs": [],
   "source": [
    "grade = 90\n",
    "if grade >= 60:\n",
    "    result = 'Passed'\n",
    "else:\n",
    "    result = 'Failed'\n",
    "    "
   ]
  },
  {
   "cell_type": "code",
   "execution_count": 33,
   "id": "c9517b8d-b139-43af-96e5-e58950055f35",
   "metadata": {},
   "outputs": [
    {
     "data": {
      "text/plain": [
       "'Passed'"
      ]
     },
     "execution_count": 33,
     "metadata": {},
     "output_type": "execute_result"
    }
   ],
   "source": [
    "result"
   ]
  },
  {
   "cell_type": "code",
   "execution_count": 31,
   "id": "dcfa3b07-5195-480b-a358-f70f4aee649c",
   "metadata": {},
   "outputs": [
    {
     "data": {
      "text/plain": [
       "'Passed'"
      ]
     },
     "execution_count": 31,
     "metadata": {},
     "output_type": "execute_result"
    }
   ],
   "source": [
    "result"
   ]
  },
  {
   "cell_type": "code",
   "execution_count": 34,
   "id": "81a708fa-f0b9-4685-9dc4-7f49fab2bd9d",
   "metadata": {},
   "outputs": [],
   "source": [
    "grade = 49\n",
    "if grade >= 60:\n",
    "    result = 'Passed'\n",
    "else:\n",
    "    result = 'Failed'\n",
    "    "
   ]
  },
  {
   "cell_type": "code",
   "execution_count": 35,
   "id": "035914c8-bc5d-4364-b5f5-de42f66b71b6",
   "metadata": {},
   "outputs": [
    {
     "data": {
      "text/plain": [
       "'Failed'"
      ]
     },
     "execution_count": 35,
     "metadata": {},
     "output_type": "execute_result"
    }
   ],
   "source": [
    "result"
   ]
  },
  {
   "cell_type": "code",
   "execution_count": 38,
   "id": "9b6e1264-264a-4e1a-a5b6-7a3be34216a0",
   "metadata": {},
   "outputs": [
    {
     "name": "stdout",
     "output_type": "stream",
     "text": [
      "Passed\n",
      "You must take this course again\n"
     ]
    }
   ],
   "source": [
    "grade = 100\n",
    "if grade >= 60:\n",
    "    print('Passed')\n",
    "else:\n",
    "    print('Failed')\n",
    "print('You must take this course again')\n",
    "    "
   ]
  },
  {
   "cell_type": "code",
   "execution_count": null,
   "id": "0495b2ab-38e9-4010-b7d1-a1648f2d5fe1",
   "metadata": {},
   "outputs": [],
   "source": []
  },
  {
   "cell_type": "code",
   "execution_count": 39,
   "id": "beaccbe5-4ff7-4d86-8b84-a794851a520f",
   "metadata": {},
   "outputs": [
    {
     "name": "stdout",
     "output_type": "stream",
     "text": [
      "Passed\n"
     ]
    }
   ],
   "source": [
    "grade = 100\n",
    "if grade >= 60:\n",
    "    print('Passed')\n",
    "else:\n",
    "    print('Failed')\n",
    "    print('You must take this course again')\n",
    "    "
   ]
  },
  {
   "cell_type": "code",
   "execution_count": 40,
   "id": "8643b19e-32a7-41db-b8a5-fd13c40fda22",
   "metadata": {},
   "outputs": [
    {
     "name": "stdout",
     "output_type": "stream",
     "text": [
      "C\n"
     ]
    }
   ],
   "source": [
    "grade = 77\n",
    "if grade >= 90:\n",
    "    print('A')\n",
    "elif grade >= 80:\n",
    "    print('B')\n",
    "elif grade >= 70:\n",
    "    print('C')\n",
    "elif grade >= 60:\n",
    "    print('D')\n",
    "else:\n",
    "    print('F')\n",
    "    "
   ]
  },
  {
   "cell_type": "code",
   "execution_count": 43,
   "id": "df11fddd-96e0-4d0c-846f-6336715944b5",
   "metadata": {},
   "outputs": [
    {
     "data": {
      "text/plain": [
       "81"
      ]
     },
     "execution_count": 43,
     "metadata": {},
     "output_type": "execute_result"
    }
   ],
   "source": [
    "product = 3\n",
    "while product <= 50:\n",
    "    product = product * 3\n",
    "product\n",
    "    "
   ]
  },
  {
   "cell_type": "code",
   "execution_count": 45,
   "id": "95cb7cd8-9a96-4f73-891c-f796ead59c82",
   "metadata": {},
   "outputs": [
    {
     "name": "stdout",
     "output_type": "stream",
     "text": [
      "p r o g r a m m i n g "
     ]
    }
   ],
   "source": [
    "for character in 'programming':\n",
    "    print(character, end=' ')\n",
    "    "
   ]
  },
  {
   "cell_type": "code",
   "execution_count": 46,
   "id": "2e224d2f-568c-4a2e-a97b-325722b6a370",
   "metadata": {},
   "outputs": [
    {
     "name": "stdout",
     "output_type": "stream",
     "text": [
      "10, 20, 30\n"
     ]
    }
   ],
   "source": [
    "print(10, 20, 30, sep=', ')\n"
   ]
  },
  {
   "cell_type": "code",
   "execution_count": 47,
   "id": "ba2f6330-3048-4a32-afe1-76e8da8634c7",
   "metadata": {},
   "outputs": [
    {
     "data": {
      "text/plain": [
       "25"
      ]
     },
     "execution_count": 47,
     "metadata": {},
     "output_type": "execute_result"
    }
   ],
   "source": [
    "total = 0\n",
    "for number in [2, -3, 0, 17, 9]:\n",
    "    total = total + number\n",
    "total"
   ]
  },
  {
   "cell_type": "code",
   "execution_count": 50,
   "id": "660463ab-2af4-43fa-9273-cbd84c1aa43b",
   "metadata": {
    "tags": []
   },
   "outputs": [
    {
     "name": "stdout",
     "output_type": "stream",
     "text": [
      "0 1 2 3 4 5 6 7 8 9 "
     ]
    }
   ],
   "source": [
    "for counter in range(10):\n",
    "    print(counter, end=' ')\n",
    "    "
   ]
  },
  {
   "cell_type": "code",
   "execution_count": null,
   "id": "9d3361fc-8c45-4727-9d9a-92c4fe327c10",
   "metadata": {},
   "outputs": [],
   "source": []
  }
 ],
 "metadata": {
  "kernelspec": {
   "display_name": "Python 3 (ipykernel)",
   "language": "python",
   "name": "python3"
  },
  "language_info": {
   "codemirror_mode": {
    "name": "ipython",
    "version": 3
   },
   "file_extension": ".py",
   "mimetype": "text/x-python",
   "name": "python",
   "nbconvert_exporter": "python",
   "pygments_lexer": "ipython3",
   "version": "3.9.7"
  }
 },
 "nbformat": 4,
 "nbformat_minor": 5
}
